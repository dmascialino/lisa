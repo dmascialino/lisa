{
 "cells": [
  {
   "cell_type": "code",
   "execution_count": 1,
   "id": "80ffa2fb-60fc-48ec-a791-feed647c400a",
   "metadata": {
    "tags": []
   },
   "outputs": [
    {
     "name": "stdout",
     "output_type": "stream",
     "text": [
      "True NVIDIA GeForce RTX 2060\n",
      "Using device: cuda\n",
      "\n",
      "NVIDIA GeForce RTX 2060\n",
      "Memory Usage:\n",
      "Allocated: 0.0 GB\n",
      "Cached:    0.0 GB\n"
     ]
    }
   ],
   "source": [
    "import triangulate"
   ]
  },
  {
   "cell_type": "code",
   "execution_count": 2,
   "id": "4e747d9a-0dbd-41ed-a990-3e1b09894fbc",
   "metadata": {
    "tags": []
   },
   "outputs": [
    {
     "data": {
      "image/png": "[encoded data removed]",
      "text/plain": [
       "<Figure size 640x480 with 1 Axes>"
      ]
     },
     "metadata": {},
     "output_type": "display_data"
    }
   ],
   "source": [
    "import torch \n",
    "xz = yz = 100\n",
    "triangles = torch.tensor([\n",
    "   [0, 0, xz, 0, 0, yz, 1., 1, 1, 1],\n",
    "   [0, 0, 50, 0, 0, 50, 0, 1, 0, 1]\n",
    "]).to('cuda')\n",
    "x_grid, y_grid = triangulate.generate_meshgrid(xz, yz)\n",
    "triangulate.show(triangulate.render_multicanvas(triangles, x_grid, y_grid)[0,:,:,:3])\n",
    "triangulate.save(triangulate.render_multicanvas(triangles, x_grid, y_grid)[0,:,:,:3])"
   ]
  },
  {
   "cell_type": "code",
   "execution_count": 3,
   "id": "28a7c3e8-4014-420d-b67f-c6641048fdd6",
   "metadata": {
    "tags": []
   },
   "outputs": [],
   "source": [
    "import matplotlib.pyplot as plt"
   ]
  },
  {
   "cell_type": "code",
   "execution_count": 4,
   "id": "86fc86fb-648e-404d-bece-9b9976cc61cc",
   "metadata": {
    "tags": []
   },
   "outputs": [
    {
     "data": {
      "text/plain": [
       "array([[[0.99215686, 0.99215686, 0.99215686, 1.        ],\n",
       "        [0.99215686, 0.99215686, 0.99215686, 1.        ],\n",
       "        [0.99215686, 0.99215686, 0.99215686, 1.        ],\n",
       "        ...,\n",
       "        [0.99215686, 0.99215686, 0.99215686, 1.        ],\n",
       "        [0.99215686, 0.99215686, 0.99215686, 1.        ],\n",
       "        [0.99215686, 0.99215686, 0.99215686, 1.        ]],\n",
       "\n",
       "       [[0.99215686, 0.99215686, 0.99215686, 1.        ],\n",
       "        [0.99215686, 0.99215686, 0.99215686, 1.        ],\n",
       "        [0.99215686, 0.99215686, 0.99215686, 1.        ],\n",
       "        ...,\n",
       "        [0.99215686, 0.99215686, 0.99215686, 1.        ],\n",
       "        [0.99215686, 0.99215686, 0.99215686, 1.        ],\n",
       "        [0.99215686, 0.99215686, 0.99215686, 1.        ]],\n",
       "\n",
       "       [[0.99215686, 0.99215686, 0.99215686, 1.        ],\n",
       "        [0.99215686, 0.99215686, 0.99215686, 1.        ],\n",
       "        [0.99215686, 0.99215686, 0.99215686, 1.        ],\n",
       "        ...,\n",
       "        [0.99215686, 0.99215686, 0.99215686, 1.        ],\n",
       "        [0.99215686, 0.99215686, 0.99215686, 1.        ],\n",
       "        [0.        , 0.        , 0.        , 1.        ]],\n",
       "\n",
       "       ...,\n",
       "\n",
       "       [[0.99215686, 0.99215686, 0.99215686, 1.        ],\n",
       "        [0.99215686, 0.99215686, 0.99215686, 1.        ],\n",
       "        [0.99215686, 0.99215686, 0.99215686, 1.        ],\n",
       "        ...,\n",
       "        [0.        , 0.        , 0.        , 1.        ],\n",
       "        [0.        , 0.        , 0.        , 1.        ],\n",
       "        [0.        , 0.        , 0.        , 1.        ]],\n",
       "\n",
       "       [[0.99215686, 0.99215686, 0.99215686, 1.        ],\n",
       "        [0.99215686, 0.99215686, 0.99215686, 1.        ],\n",
       "        [0.99215686, 0.99215686, 0.99215686, 1.        ],\n",
       "        ...,\n",
       "        [0.        , 0.        , 0.        , 1.        ],\n",
       "        [0.        , 0.        , 0.        , 1.        ],\n",
       "        [0.        , 0.        , 0.        , 1.        ]],\n",
       "\n",
       "       [[0.99215686, 0.99215686, 0.99215686, 1.        ],\n",
       "        [0.99215686, 0.99215686, 0.99215686, 1.        ],\n",
       "        [0.        , 0.        , 0.        , 1.        ],\n",
       "        ...,\n",
       "        [0.        , 0.        , 0.        , 1.        ],\n",
       "        [0.        , 0.        , 0.        , 1.        ],\n",
       "        [0.        , 0.        , 0.        , 1.        ]]], dtype=float32)"
      ]
     },
     "execution_count": 4,
     "metadata": {},
     "output_type": "execute_result"
    }
   ],
   "source": [
    "plt.imread(\"white_triangle.png\")"
   ]
  },
  {
   "cell_type": "code",
   "execution_count": 5,
   "id": "d0b3b71c-388d-479d-96b6-5eeb2bc293a0",
   "metadata": {
    "tags": []
   },
   "outputs": [
    {
     "data": {
      "text/plain": [
       "tensor([[[0.9933, 0.9933, 0.9933],\n",
       "         [0.9933, 0.9933, 0.9933],\n",
       "         [0.9933, 0.9933, 0.9933],\n",
       "         ...,\n",
       "         [0.9933, 0.9933, 0.9933],\n",
       "         [0.9933, 0.9933, 0.9933],\n",
       "         [0.9933, 0.9933, 0.9933]],\n",
       "\n",
       "        [[0.9933, 0.9933, 0.9933],\n",
       "         [0.9933, 0.9933, 0.9933],\n",
       "         [0.9933, 0.9933, 0.9933],\n",
       "         ...,\n",
       "         [0.9933, 0.9933, 0.9933],\n",
       "         [0.9933, 0.9933, 0.9933],\n",
       "         [0.9933, 0.9933, 0.9933]],\n",
       "\n",
       "        [[0.9933, 0.9933, 0.9933],\n",
       "         [0.9933, 0.9933, 0.9933],\n",
       "         [0.9933, 0.9933, 0.9933],\n",
       "         ...,\n",
       "         [0.9933, 0.9933, 0.9933],\n",
       "         [0.9933, 0.9933, 0.9933],\n",
       "         [0.0000, 0.0000, 0.0000]],\n",
       "\n",
       "        ...,\n",
       "\n",
       "        [[0.9933, 0.9933, 0.9933],\n",
       "         [0.9933, 0.9933, 0.9933],\n",
       "         [0.9933, 0.9933, 0.9933],\n",
       "         ...,\n",
       "         [0.0000, 0.0000, 0.0000],\n",
       "         [0.0000, 0.0000, 0.0000],\n",
       "         [0.0000, 0.0000, 0.0000]],\n",
       "\n",
       "        [[0.9933, 0.9933, 0.9933],\n",
       "         [0.9933, 0.9933, 0.9933],\n",
       "         [0.9933, 0.9933, 0.9933],\n",
       "         ...,\n",
       "         [0.0000, 0.0000, 0.0000],\n",
       "         [0.0000, 0.0000, 0.0000],\n",
       "         [0.0000, 0.0000, 0.0000]],\n",
       "\n",
       "        [[0.9933, 0.9933, 0.9933],\n",
       "         [0.9933, 0.9933, 0.9933],\n",
       "         [0.0000, 0.0000, 0.0000],\n",
       "         ...,\n",
       "         [0.0000, 0.0000, 0.0000],\n",
       "         [0.0000, 0.0000, 0.0000],\n",
       "         [0.0000, 0.0000, 0.0000]]], device='cuda:0')"
      ]
     },
     "execution_count": 5,
     "metadata": {},
     "output_type": "execute_result"
    }
   ],
   "source": [
    "triangulate.render_multicanvas(triangles, x_grid, y_grid)[0,:,:,:3]"
   ]
  },
  {
   "cell_type": "code",
   "execution_count": 10,
   "id": "9c9ff38c-51b7-4ba7-9c5c-a5985414beca",
   "metadata": {
    "tags": []
   },
   "outputs": [
    {
     "name": "stdout",
     "output_type": "stream",
     "text": [
      "alpha torch.Size([100, 100, 1])\n",
      "canvas torch.Size([100, 100, 3])\n",
      "triangle torch.Size([100, 100, 3])\n",
      "alpha torch.Size([100, 100, 1])\n",
      "canvas torch.Size([100, 100, 3])\n",
      "triangle torch.Size([100, 100, 3])\n"
     ]
    },
    {
     "data": {
      "image/png": "[encoded data removed]",
      "text/plain": [
       "<Figure size 640x480 with 1 Axes>"
      ]
     },
     "metadata": {},
     "output_type": "display_data"
    }
   ],
   "source": [
    "triangles = torch.tensor([\n",
    "        [0, 0, 100, 0, 0, 100, 1, 1, 1, 1],\n",
    "        [0, 0, 50, 0, 0, 50, 0, 1, 0, 1]\n",
    "    ]).to('cuda')\n",
    "x_grid, y_grid = triangulate.generate_meshgrid(100, 100)\n",
    "generated = triangulate.render_triangles(triangles, x_grid, y_grid)[:,:,:3]\n",
    "triangulate.show(generated)"
   ]
  },
  {
   "cell_type": "code",
   "execution_count": 9,
   "id": "8ea4df4d-1e11-485e-bb73-7878cabdb931",
   "metadata": {
    "tags": []
   },
   "outputs": [],
   "source": [
    "triangulate.save(generated)"
   ]
  },
  {
   "cell_type": "code",
   "execution_count": 11,
   "id": "a62734f7-454c-416d-8be4-cecfbacc332f",
   "metadata": {
    "tags": []
   },
   "outputs": [],
   "source": [
    "a = plt.imread(\"green_white_triangle.png\")[:, :, :3]"
   ]
  },
  {
   "cell_type": "code",
   "execution_count": 15,
   "id": "5a536a4d-7da7-48e4-a6c2-b4b050959d08",
   "metadata": {
    "tags": []
   },
   "outputs": [
    {
     "data": {
      "text/plain": [
       "array([[-0.00268197, -0.00110584, -0.00268197],\n",
       "       [-0.00268197, -0.00110584, -0.00268197],\n",
       "       [-0.00268197, -0.00110584, -0.00268197],\n",
       "       [-0.00268197, -0.00110584, -0.00268197],\n",
       "       [-0.00268197, -0.00110584, -0.00268197],\n",
       "       [-0.00268197, -0.00110584, -0.00268197],\n",
       "       [-0.00268197, -0.00110584, -0.00268197],\n",
       "       [-0.00268197, -0.00110584, -0.00268197],\n",
       "       [-0.00268197, -0.00110584, -0.00268197],\n",
       "       [-0.00268197, -0.00110584, -0.00268197],\n",
       "       [-0.00268197, -0.00110584, -0.00268197],\n",
       "       [-0.00268197, -0.00110584, -0.00268197],\n",
       "       [-0.00268197, -0.00110584, -0.00268197],\n",
       "       [-0.00268197, -0.00110584, -0.00268197],\n",
       "       [-0.00268197, -0.00110584, -0.00268197],\n",
       "       [-0.00268197, -0.00110584, -0.00268197],\n",
       "       [-0.00268197, -0.00110584, -0.00268197],\n",
       "       [-0.00268197, -0.00110584, -0.00268197],\n",
       "       [-0.00268197, -0.00110584, -0.00268197],\n",
       "       [-0.00268197, -0.00110584, -0.00268197],\n",
       "       [-0.00268197, -0.00110584, -0.00268197],\n",
       "       [-0.00268197, -0.00110584, -0.00268197],\n",
       "       [-0.00268197, -0.00110584, -0.00268197],\n",
       "       [-0.00268197, -0.00110584, -0.00268197],\n",
       "       [-0.00268197, -0.00110584, -0.00268197],\n",
       "       [-0.00268197, -0.00110584, -0.00268197],\n",
       "       [-0.00268197, -0.00110584, -0.00268197],\n",
       "       [-0.00268197, -0.00110584, -0.00268197],\n",
       "       [-0.00268197, -0.00110584, -0.00268197],\n",
       "       [-0.00268197, -0.00110584, -0.00268197],\n",
       "       [-0.00268197, -0.00110584, -0.00268197],\n",
       "       [-0.00268197, -0.00110584, -0.00268197],\n",
       "       [-0.00268197, -0.00110584, -0.00268197],\n",
       "       [-0.00268197, -0.00110584, -0.00268197],\n",
       "       [-0.00268197, -0.00110584, -0.00268197],\n",
       "       [-0.00268197, -0.00110584, -0.00268197],\n",
       "       [-0.00268197, -0.00110584, -0.00268197],\n",
       "       [-0.00268197, -0.00110584, -0.00268197],\n",
       "       [-0.00268197, -0.00110584, -0.00268197],\n",
       "       [-0.00268197, -0.00110584, -0.00268197],\n",
       "       [-0.00268197, -0.00110584, -0.00268197],\n",
       "       [-0.00268197, -0.00110584, -0.00268197],\n",
       "       [-0.00268197, -0.00110584, -0.00268197],\n",
       "       [-0.00268197, -0.00110584, -0.00268197],\n",
       "       [-0.00268197, -0.00110584, -0.00268197],\n",
       "       [-0.00268197, -0.00110584, -0.00268197],\n",
       "       [-0.00268197, -0.00110584, -0.00268197],\n",
       "       [-0.00268197, -0.00110584, -0.00268197],\n",
       "       [-0.00268197, -0.00110584, -0.00268197],\n",
       "       [-0.00268197, -0.00110584, -0.00268197],\n",
       "       [-0.00234544, -0.00234544, -0.00234544],\n",
       "       [-0.00234544, -0.00234544, -0.00234544],\n",
       "       [-0.00234544, -0.00234544, -0.00234544],\n",
       "       [-0.00234544, -0.00234544, -0.00234544],\n",
       "       [-0.00234544, -0.00234544, -0.00234544],\n",
       "       [-0.00234544, -0.00234544, -0.00234544],\n",
       "       [-0.00234544, -0.00234544, -0.00234544],\n",
       "       [-0.00234544, -0.00234544, -0.00234544],\n",
       "       [-0.00234544, -0.00234544, -0.00234544],\n",
       "       [-0.00234544, -0.00234544, -0.00234544],\n",
       "       [-0.00234544, -0.00234544, -0.00234544],\n",
       "       [-0.00234544, -0.00234544, -0.00234544],\n",
       "       [-0.00234544, -0.00234544, -0.00234544],\n",
       "       [-0.00234544, -0.00234544, -0.00234544],\n",
       "       [-0.00234544, -0.00234544, -0.00234544],\n",
       "       [-0.00234544, -0.00234544, -0.00234544],\n",
       "       [-0.00234544, -0.00234544, -0.00234544],\n",
       "       [-0.00234544, -0.00234544, -0.00234544],\n",
       "       [-0.00234544, -0.00234544, -0.00234544],\n",
       "       [-0.00234544, -0.00234544, -0.00234544],\n",
       "       [-0.00234544, -0.00234544, -0.00234544],\n",
       "       [-0.00234544, -0.00234544, -0.00234544],\n",
       "       [-0.00234544, -0.00234544, -0.00234544],\n",
       "       [-0.00234544, -0.00234544, -0.00234544],\n",
       "       [-0.00234544, -0.00234544, -0.00234544],\n",
       "       [-0.00234544, -0.00234544, -0.00234544],\n",
       "       [-0.00234544, -0.00234544, -0.00234544],\n",
       "       [-0.00234544, -0.00234544, -0.00234544],\n",
       "       [-0.00234544, -0.00234544, -0.00234544],\n",
       "       [-0.00234544, -0.00234544, -0.00234544],\n",
       "       [-0.00234544, -0.00234544, -0.00234544],\n",
       "       [-0.00234544, -0.00234544, -0.00234544],\n",
       "       [-0.00234544, -0.00234544, -0.00234544],\n",
       "       [-0.00234544, -0.00234544, -0.00234544],\n",
       "       [-0.00234544, -0.00234544, -0.00234544],\n",
       "       [-0.00234544, -0.00234544, -0.00234544],\n",
       "       [-0.00234544, -0.00234544, -0.00234544],\n",
       "       [-0.00234544, -0.00234544, -0.00234544],\n",
       "       [-0.00234544, -0.00234544, -0.00234544],\n",
       "       [-0.00234544, -0.00234544, -0.00234544],\n",
       "       [-0.00234544, -0.00234544, -0.00234544],\n",
       "       [-0.00234544, -0.00234544, -0.00234544],\n",
       "       [-0.00234544, -0.00234544, -0.00234544],\n",
       "       [-0.00234544, -0.00234544, -0.00234544],\n",
       "       [-0.00234544, -0.00234544, -0.00234544],\n",
       "       [-0.00234544, -0.00234544, -0.00234544],\n",
       "       [-0.00234544, -0.00234544, -0.00234544],\n",
       "       [-0.00234544, -0.00234544, -0.00234544],\n",
       "       [-0.00234544, -0.00234544, -0.00234544],\n",
       "       [-0.00234544, -0.00234544, -0.00234544]], dtype=float32)"
      ]
     },
     "execution_count": 15,
     "metadata": {},
     "output_type": "execute_result"
    }
   ],
   "source": [
    "a[1] - generated.detach().cpu().numpy()[1]"
   ]
  },
  {
   "cell_type": "code",
   "execution_count": 24,
   "id": "dcbcc715-fba3-4811-a25b-5968e188cd85",
   "metadata": {},
   "outputs": [
    {
     "data": {
      "text/plain": [
       "<matplotlib.image.AxesImage at 0x7fb616408220>"
      ]
     },
     "execution_count": 24,
     "metadata": {},
     "output_type": "execute_result"
    },
    {
     "data": {
      "image/png": "[encoded data removed]",
      "text/plain": [
       "<Figure size 640x480 with 1 Axes>"
      ]
     },
     "metadata": {},
     "output_type": "display_data"
    }
   ],
   "source": [
    "w = plt.imread(\"white_triangle.png\")[:,:,:3]\n",
    "plt.imshow(w)"
   ]
  },
  {
   "cell_type": "code",
   "execution_count": 25,
   "id": "85f96f39-4d4a-4ec1-96c4-0118524a9009",
   "metadata": {
    "tags": []
   },
   "outputs": [],
   "source": [
    "import numpy as np\n",
    "plt.imsave(\"foo.png\", np.clip(w, 0, 1))"
   ]
  },
  {
   "cell_type": "code",
   "execution_count": null,
   "id": "d45867b3-fe91-49e8-a1cb-a73952981e48",
   "metadata": {},
   "outputs": [],
   "source": []
  }
 ],
 "metadata": {
  "kernelspec": {
   "display_name": "Python 3 (ipykernel)",
   "language": "python",
   "name": "python3"
  },
  "language_info": {
   "codemirror_mode": {
    "name": "ipython",
    "version": 3
   },
   "file_extension": ".py",
   "mimetype": "text/x-python",
   "name": "python",
   "nbconvert_exporter": "python",
   "pygments_lexer": "ipython3",
   "version": "3.9.12"
  }
 },
 "nbformat": 4,
 "nbformat_minor": 5
}
