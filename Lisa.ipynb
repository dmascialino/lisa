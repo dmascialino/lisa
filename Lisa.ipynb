{
 "cells": [
  {
   "cell_type": "code",
   "execution_count": 36,
   "metadata": {
    "id": "qKNHLw4H6g0m"
   },
   "outputs": [],
   "source": [
    "import torch"
   ]
  },
  {
   "cell_type": "code",
   "execution_count": 37,
   "metadata": {
    "colab": {
     "base_uri": "https://localhost:8080/",
     "height": 331
    },
    "id": "7EI3v7Jt6h3R",
    "outputId": "42e17982-d1e8-4ef4-faf2-d736f2e3b845"
   },
   "outputs": [
    {
     "data": {
      "text/plain": [
       "(True, 'NVIDIA GeForce RTX 2060')"
      ]
     },
     "execution_count": 37,
     "metadata": {},
     "output_type": "execute_result"
    }
   ],
   "source": [
    "\n",
    "import torch.cuda\n",
    "torch.cuda.is_available(), torch.cuda.get_device_name(0)"
   ]
  },
  {
   "cell_type": "code",
   "execution_count": 38,
   "metadata": {},
   "outputs": [
    {
     "data": {
      "text/plain": [
       "'1.12.1+cu102'"
      ]
     },
     "execution_count": 38,
     "metadata": {},
     "output_type": "execute_result"
    }
   ],
   "source": [
    "torch.__version__"
   ]
  },
  {
   "cell_type": "code",
   "execution_count": 39,
   "metadata": {
    "id": "VvsUz8vQSqaZ"
   },
   "outputs": [],
   "source": [
    "import matplotlib.pyplot as plt"
   ]
  },
  {
   "cell_type": "code",
   "execution_count": 40,
   "metadata": {
    "colab": {
     "base_uri": "https://localhost:8080/"
    },
    "id": "5efHgtXCICc7",
    "outputId": "b5c30cf3-34f7-4ff0-a29c-1e201a1c0715"
   },
   "outputs": [
    {
     "name": "stdout",
     "output_type": "stream",
     "text": [
      "Using device: cuda\n",
      "\n",
      "NVIDIA GeForce RTX 2060\n",
      "Memory Usage:\n",
      "Allocated: 0.2 GB\n",
      "Cached:    0.9 GB\n"
     ]
    }
   ],
   "source": [
    "# setting device on GPU if available, else CPU\n",
    "device = torch.device('cuda' if torch.cuda.is_available() else 'cpu')\n",
    "print('Using device:', device)\n",
    "print()\n",
    "\n",
    "#Additional Info when using cuda\n",
    "if device.type == 'cuda':\n",
    "    print(torch.cuda.get_device_name(0))\n",
    "    print('Memory Usage:')\n",
    "    print('Allocated:', round(torch.cuda.memory_allocated(0)/1024**3,1), 'GB')\n",
    "    print('Cached:   ', round(torch.cuda.memory_reserved(0)/1024**3,1), 'GB')\n",
    "    \n",
    "    \n",
    "DEVICE = \"cuda\""
   ]
  },
  {
   "cell_type": "code",
   "execution_count": 41,
   "metadata": {
    "id": "sQN57xafIQp5"
   },
   "outputs": [],
   "source": [
    "def blend_triangles(multi_canvas):\n",
    "    xz, yz, colors, triangles = multi_canvas.shape\n",
    "    canvas = torch.zeros((xz, yz, 3))\n",
    "    canvas = canvas.to(DEVICE)\n",
    "    for i in range(triangles):\n",
    "        triangle_canvas = multi_canvas[:,:,:,i]\n",
    "        alpha = triangle_canvas[:,:,3].reshape(xz,yz,1)\n",
    "        canvas = canvas * (1 - alpha) + triangle_canvas[:,:,:3] * alpha\n",
    "    return canvas\n",
    "    \n",
    "\n",
    "\n",
    "def random_triangles(num_triangles, x_size, y_size):\n",
    "    positions = torch.rand(num_triangles, 6)\n",
    "    position_limits = torch.tensor([x_size, y_size, x_size, y_size, x_size, y_size])\n",
    "    position_limits = torch.tile(position_limits, (num_triangles,)).reshape(num_triangles, 6)\n",
    "    positions = positions * position_limits\n",
    "    positions = positions.to(DEVICE)\n",
    "    positions = positions.to(torch.float64)\n",
    "    \n",
    "    colors = torch.rand(num_triangles, 4)\n",
    "    color_limits = torch.tensor([1, 1, 1, 1])\n",
    "    color_limits = torch.tile(color_limits, (num_triangles,)).reshape(num_triangles, 4)\n",
    "    colors = colors * color_limits\n",
    "    colors = colors.to(DEVICE)\n",
    "    colors = colors.to(torch.float64)\n",
    "    \n",
    "    \n",
    "    return torch.tensor(positions, requires_grad=True), torch.tensor(colors, requires_grad=True)\n",
    "\n",
    "\n",
    "def build_triangles(positions, colors):\n",
    "    return torch.cat((positions, colors), dim=1)\n",
    "\n",
    "\n",
    "def render_multicanvas(triangles, x_grid, y_grid, x_size, y_size):\n",
    "    triangles_canvas = triangles[:, -4:].T\n",
    "    t = triangles[:, :6]\n",
    "    inside = inside_triangle(x_grid, y_grid, t[:, 0], t[:, 1], t[:, 2], t[:, 3], t[:, 4], t[:, 5]).reshape(x_size, y_size, 1,\n",
    "                                                                                                -1) #FIXME: FEO!!!\n",
    "    multi_canvas = triangles_canvas * inside\n",
    "\n",
    "    return multi_canvas\n",
    "\n",
    "\n",
    "def render_triangles(triangles, x_grid, y_grid, x_size, y_size):\n",
    "    multi_canvas = render_multicanvas(triangles, x_grid, y_grid, x_size, y_size)\n",
    "    canvas = blend_triangles(multi_canvas)\n",
    "\n",
    "    return canvas \n",
    "\n",
    "\n",
    "def triangle_area(ax, ay, bx, by, cx, cy):\n",
    "    abx = bx - ax\n",
    "    aby = by - ay\n",
    "    acx = cx - ax\n",
    "    acy = cy - ay\n",
    "    cp = abx * acy - aby * acx\n",
    "    return torch.abs(cp) / 2\n",
    "\n",
    "\n",
    "def inside_triangle(px, py, ax, ay, bx, by, cx, cy):\n",
    "    orig = triangle_area(ax, ay, bx, by, cx, cy)\n",
    "    p1 = triangle_area(px, py, bx, by, cx, cy)\n",
    "    p2 = triangle_area(ax, ay, px, py, cx, cy)\n",
    "    p3 = triangle_area(ax, ay, bx, by, px, py)\n",
    "    epsilon = 1e-6\n",
    "    area_diff = (p1 + p2 + p3) - orig\n",
    "    return torch.special.expit((1 - area_diff))\n",
    "\n",
    "\n",
    "def generate_meshgrid(num_triangles, x_size, y_size):\n",
    "  cx, cy, _ = torch.meshgrid(torch.arange(0, x_size), torch.arange(0, y_size), torch.arange(num_triangles), indexing=\"ij\")\n",
    "  return cx.to(DEVICE), cy.to(DEVICE)\n",
    "\n",
    "\n",
    "def show(render):\n",
    "  plt.imshow(render.cpu().detach().numpy())"
   ]
  },
  {
   "cell_type": "code",
   "execution_count": 42,
   "metadata": {
    "id": "kleK6OPqe9fE"
   },
   "outputs": [],
   "source": [
    "import scipy as sp"
   ]
  },
  {
   "cell_type": "code",
   "execution_count": 47,
   "metadata": {
    "colab": {
     "base_uri": "https://localhost:8080/",
     "height": 501
    },
    "id": "Hi3nA9ZpP8KC",
    "outputId": "86dc3895-e296-436b-f9ab-0e0a715d9f21"
   },
   "outputs": [
    {
     "name": "stderr",
     "output_type": "stream",
     "text": [
      "/tmp/ipykernel_171193/3113997507.py:29: UserWarning: To copy construct from a tensor, it is recommended to use sourceTensor.clone().detach() or sourceTensor.clone().detach().requires_grad_(True), rather than torch.tensor(sourceTensor).\n",
      "  return torch.tensor(positions, requires_grad=True), torch.tensor(colors, requires_grad=True)\n"
     ]
    },
    {
     "data": {
      "image/png": "[encoded data removed]",
      "text/plain": [
       "<Figure size 640x480 with 1 Axes>"
      ]
     },
     "metadata": {},
     "output_type": "display_data"
    }
   ],
   "source": [
    "# test rendering\n",
    "x_size = 100\n",
    "y_size = 100\n",
    "num_triangles = 100\n",
    "\n",
    "triangles = build_triangles(*random_triangles(num_triangles, x_size, y_size))\n",
    "x_grid, y_grid = generate_meshgrid(num_triangles, x_size, y_size)\n",
    "\n",
    "render = render_triangles(triangles, x_grid, y_grid, x_size, y_size)\n",
    "\n",
    "show(render)"
   ]
  },
  {
   "cell_type": "code",
   "execution_count": 43,
   "metadata": {
    "colab": {
     "base_uri": "https://localhost:8080/",
     "height": 432
    },
    "id": "RYRjeEDZr6sj",
    "outputId": "af65c639-4333-48da-dc66-7082d1d3be02"
   },
   "outputs": [
    {
     "data": {
      "image/png": "[encoded data removed]",
      "text/plain": [
       "<Figure size 640x480 with 1 Axes>"
      ]
     },
     "metadata": {},
     "output_type": "display_data"
    }
   ],
   "source": [
    "# test learning\n",
    "x_size = 50\n",
    "y_size = 50\n",
    "num_triangles = 1\n",
    "\n",
    "triangles = torch.Tensor([[10, 10, 10, 40, 40, 10, 1, 1, 1, 1]]).to(torch.float64).to(DEVICE)\n",
    "\n",
    "x_grid, y_grid = generate_meshgrid(num_triangles, x_size, y_size)\n",
    "\n",
    "target = render_triangles(triangles, x_grid, y_grid, x_size, y_size)\n",
    "\n",
    "show(target)\n"
   ]
  },
  {
   "cell_type": "code",
   "execution_count": null,
   "metadata": {
    "colab": {
     "base_uri": "https://localhost:8080/",
     "height": 713
    },
    "id": "_Bib6ynzseKN",
    "outputId": "f975e90e-6349-48f3-9059-577ad473afea"
   },
   "outputs": [],
   "source": [
    "positions, colors = random_triangles(1, x_size, y_size)\n",
    "optimizer = torch.optim.SGD([\n",
    "                {'params': positions, 'lr': 0.1},\n",
    "                {'params': colors, 'lr': 1e-3}\n",
    "            ])\n",
    "for t in range(1):\n",
    "    # Forward pass: Compute predicted y by passing x to the model\n",
    "    triangles = build_triangles(positions, colors)\n",
    "    candidate = render_triangles(triangles, x_grid, y_grid, x_size, y_size)\n",
    "\n",
    "    # Compute and print losstarget\n",
    "    loss = torch.sum((target - candidate) ** 2)\n",
    "    if t % 1000 == 99:\n",
    "        print(t, loss.item())\n",
    "        show(candidate)\n",
    "\n",
    "    # Zero gradients, perform a backward pass, and update the weights.\n",
    "    optimizer.zero_grad()\n",
    "    loss.backward()\n",
    "    optimizer.step()"
   ]
  },
  {
   "cell_type": "code",
   "execution_count": null,
   "metadata": {
    "colab": {
     "base_uri": "https://localhost:8080/",
     "height": 432
    },
    "id": "6ErkcqniwjlB",
    "outputId": "6355036f-3b63-43c7-c3d9-17fd7549a47c"
   },
   "outputs": [],
   "source": [
    "show(candidate)"
   ]
  },
  {
   "cell_type": "code",
   "execution_count": null,
   "metadata": {
    "colab": {
     "base_uri": "https://localhost:8080/"
    },
    "id": "zw-Gtea6t3Q_",
    "outputId": "84f79ac0-b856-4427-d494-9a6651e453e8"
   },
   "outputs": [],
   "source": [
    "triangles.requires_grad"
   ]
  },
  {
   "cell_type": "code",
   "execution_count": null,
   "metadata": {
    "colab": {
     "base_uri": "https://localhost:8080/"
    },
    "id": "4c_UICKFfNrG",
    "outputId": "6fbb8667-699b-49d0-b2c1-a7d131cc25b3"
   },
   "outputs": [],
   "source": [
    "import scipy\n",
    "import cv2\n",
    "from skimage.transform import rescale, downscale_local_mean\n",
    "\n",
    "img = sp.misc.face()\n",
    "scale = 0.2\n",
    "width = int(img.shape[1] * scale)\n",
    "height = int(img.shape[0] * scale)\n",
    "dim = (width, height)\n",
    "img = cv2.resize(img, dim, interpolation = cv2.INTER_AREA)\n",
    "\n",
    "target = torch.Tensor(img).to(DEVICE) / 255\n",
    "target.shape"
   ]
  },
  {
   "cell_type": "code",
   "execution_count": null,
   "metadata": {
    "colab": {
     "base_uri": "https://localhost:8080/",
     "height": 452
    },
    "id": "h2l4h_7xfUd8",
    "outputId": "2ad2816d-1682-4a6d-d071-29d9a914837e"
   },
   "outputs": [],
   "source": [
    "show(target)"
   ]
  },
  {
   "cell_type": "code",
   "execution_count": null,
   "metadata": {
    "colab": {
     "base_uri": "https://localhost:8080/"
    },
    "id": "n2OdHx6zfd_A",
    "outputId": "e2cb1120-be1c-4530-a23f-5773376678f3"
   },
   "outputs": [],
   "source": [
    "x_size, y_size = target.shape[:2]\n",
    "target_t = torch.Tensor(target)\n",
    "NUM_TRIANGLES = 50\n",
    "\n",
    "x_grid, y_grid = generate_meshgrid(NUM_TRIANGLES, x_size, y_size)\n",
    "positions, colors = random_triangles(NUM_TRIANGLES, x_size, y_size)\n",
    "\n",
    "optimizer = torch.optim.SGD([\n",
    "                {'params': positions, 'lr': 0.001},\n",
    "                {'params': colors, 'lr': 0.00001}\n",
    "            ])\n",
    "\n",
    "try:\n",
    "    for t in range(2000000):\n",
    "        # Forward pass: Compute predicted y by passing x to the model\n",
    "        triangles = build_triangles(positions, colors)\n",
    "        candidate = render_triangles(triangles, x_grid, y_grid, x_size, y_size)\n",
    "\n",
    "        # Compute and print losstarget\n",
    "        loss = torch.sum((target - candidate) ** 2)\n",
    "        if t % 10 == 0:\n",
    "            print(t, loss.item())\n",
    "\n",
    "\n",
    "        # Zero gradients, perform a backward pass, and update the weights.\n",
    "        optimizer.zero_grad()\n",
    "        loss.backward()\n",
    "        optimizer.step()\n",
    "except KeyboardInterrupt:\n",
    "     show(candidate)"
   ]
  },
  {
   "cell_type": "code",
   "execution_count": null,
   "metadata": {},
   "outputs": [],
   "source": [
    "optimizer = torch.optim.SGD([\n",
    "                {'params': positions, 'lr': 0.01},\n",
    "                {'params': colors, 'lr': 0.00001}\n",
    "    ])\n",
    "for t in range(20000):\n",
    "    # Forward pass: Compute predicted y by passing x to the model\n",
    "    triangles = build_triangles(positions, colors)\n",
    "    candidate = render_triangles(triangles, x_grid, y_grid, x_size, y_size)\n",
    "\n",
    "    # Compute and print losstarget\n",
    "    loss = torch.sum((target - candidate) ** 2)\n",
    "    if t % 100 == 0:\n",
    "        print(t, loss.item())\n",
    "        show(candidate)\n",
    "\n",
    "    # Zero gradients, perform a backward pass, and update the weights.\n",
    "    optimizer.zero_grad()\n",
    "    loss.backward()\n",
    "    optimizer.step()"
   ]
  },
  {
   "cell_type": "code",
   "execution_count": 26,
   "metadata": {},
   "outputs": [],
   "source": [
    "import numpy as np\n",
    "cx = np.array([[1, 2], [2, 3]])\n",
    "cy = np.array([[3, 4], [1, 2]])"
   ]
  },
  {
   "cell_type": "code",
   "execution_count": 28,
   "metadata": {},
   "outputs": [
    {
     "data": {
      "text/plain": [
       "array([[ 0,  1,  2,  3,  4,  5],\n",
       "       [ 6,  7,  8,  9, 10, 11],\n",
       "       [12, 13, 14, 15, 16, 17],\n",
       "       [18, 19, 20, 21, 22, 23],\n",
       "       [24, 25, 26, 27, 28, 29]])"
      ]
     },
     "execution_count": 28,
     "metadata": {},
     "output_type": "execute_result"
    }
   ],
   "source": [
    "c = np.arange(30)\n",
    "c = c.reshape((5, 6))\n",
    "\n",
    "c"
   ]
  },
  {
   "cell_type": "code",
   "execution_count": 29,
   "metadata": {},
   "outputs": [
    {
     "data": {
      "text/plain": [
       "array([[ 9, 16],\n",
       "       [13, 20]])"
      ]
     },
     "execution_count": 29,
     "metadata": {},
     "output_type": "execute_result"
    }
   ],
   "source": [
    "c[cx, cy]"
   ]
  },
  {
   "cell_type": "code",
   "execution_count": 31,
   "metadata": {},
   "outputs": [
    {
     "name": "stdout",
     "output_type": "stream",
     "text": [
      "True NVIDIA GeForce RTX 2060\n",
      "Using device: cuda\n",
      "\n",
      "NVIDIA GeForce RTX 2060\n",
      "Memory Usage:\n",
      "Allocated: 0.2 GB\n",
      "Cached:    0.9 GB\n"
     ]
    }
   ],
   "source": [
    "import triangulate"
   ]
  },
  {
   "cell_type": "code",
   "execution_count": 34,
   "metadata": {},
   "outputs": [
    {
     "data": {
      "text/plain": [
       "(tensor([[[0, 0, 0],\n",
       "          [0, 0, 0],\n",
       "          [0, 0, 0],\n",
       "          [0, 0, 0],\n",
       "          [0, 0, 0]],\n",
       " \n",
       "         [[1, 1, 1],\n",
       "          [1, 1, 1],\n",
       "          [1, 1, 1],\n",
       "          [1, 1, 1],\n",
       "          [1, 1, 1]],\n",
       " \n",
       "         [[2, 2, 2],\n",
       "          [2, 2, 2],\n",
       "          [2, 2, 2],\n",
       "          [2, 2, 2],\n",
       "          [2, 2, 2]],\n",
       " \n",
       "         [[3, 3, 3],\n",
       "          [3, 3, 3],\n",
       "          [3, 3, 3],\n",
       "          [3, 3, 3],\n",
       "          [3, 3, 3]]], device='cuda:0'),\n",
       " tensor([[[0, 0, 0],\n",
       "          [1, 1, 1],\n",
       "          [2, 2, 2],\n",
       "          [3, 3, 3],\n",
       "          [4, 4, 4]],\n",
       " \n",
       "         [[0, 0, 0],\n",
       "          [1, 1, 1],\n",
       "          [2, 2, 2],\n",
       "          [3, 3, 3],\n",
       "          [4, 4, 4]],\n",
       " \n",
       "         [[0, 0, 0],\n",
       "          [1, 1, 1],\n",
       "          [2, 2, 2],\n",
       "          [3, 3, 3],\n",
       "          [4, 4, 4]],\n",
       " \n",
       "         [[0, 0, 0],\n",
       "          [1, 1, 1],\n",
       "          [2, 2, 2],\n",
       "          [3, 3, 3],\n",
       "          [4, 4, 4]]], device='cuda:0'))"
      ]
     },
     "execution_count": 34,
     "metadata": {},
     "output_type": "execute_result"
    }
   ],
   "source": [
    "triangulate.generate_meshgrid(3,4,5)"
   ]
  },
  {
   "cell_type": "code",
   "execution_count": 35,
   "metadata": {},
   "outputs": [
    {
     "data": {
      "text/plain": [
       "torch.Size([4, 5, 3])"
      ]
     },
     "execution_count": 35,
     "metadata": {},
     "output_type": "execute_result"
    }
   ],
   "source": [
    "_[0].shape"
   ]
  },
  {
   "cell_type": "code",
   "execution_count": null,
   "metadata": {},
   "outputs": [],
   "source": []
  }
 ],
 "metadata": {
  "accelerator": "GPU",
  "colab": {
   "provenance": []
  },
  "gpuClass": "standard",
  "kernelspec": {
   "display_name": "Python 3 (ipykernel)",
   "language": "python",
   "name": "python3"
  },
  "language_info": {
   "codemirror_mode": {
    "name": "ipython",
    "version": 3
   },
   "file_extension": ".py",
   "mimetype": "text/x-python",
   "name": "python",
   "nbconvert_exporter": "python",
   "pygments_lexer": "ipython3",
   "version": "3.9.12"
  }
 },
 "nbformat": 4,
 "nbformat_minor": 4
}
